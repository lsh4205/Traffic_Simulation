{
  "nbformat": 4,
  "nbformat_minor": 0,
  "metadata": {
    "colab": {
      "provenance": [],
      "toc_visible": true,
      "authorship_tag": "ABX9TyOKCmJb3ora6ViAKKDb7NPe",
      "include_colab_link": true
    },
    "kernelspec": {
      "name": "python3",
      "display_name": "Python 3"
    },
    "language_info": {
      "name": "python"
    }
  },
  "cells": [
    {
      "cell_type": "markdown",
      "metadata": {
        "id": "view-in-github",
        "colab_type": "text"
      },
      "source": [
        "<a href=\"https://colab.research.google.com/github/lsh4205/Traffic_Simulation/blob/main/traffic_simulation.ipynb\" target=\"_parent\"><img src=\"https://colab.research.google.com/assets/colab-badge.svg\" alt=\"Open In Colab\"/></a>"
      ]
    },
    {
      "cell_type": "code",
      "execution_count": 1,
      "metadata": {
        "colab": {
          "base_uri": "https://localhost:8080/"
        },
        "id": "TiQCgIk8BGX9",
        "outputId": "ea04e147-d638-4aae-bac5-14f2e19b3a16"
      },
      "outputs": [
        {
          "output_type": "stream",
          "name": "stdout",
          "text": [
            "Python version: 3.10.11 (main, Apr  5 2023, 14:15:10) [GCC 9.4.0]\n"
          ]
        }
      ],
      "source": [
        "import sys\n",
        "print(\"Python version:\", sys.version)"
      ]
    },
    {
      "cell_type": "markdown",
      "source": [
        "# Define logical 1-D domains #\n",
        "\n",
        "The following class is a small wrapper around a 1-D Numpy array of values that define a discretized domain with a uniform step size."
      ],
      "metadata": {
        "id": "Vt1W1NKvGNpg"
      }
    },
    {
      "cell_type": "code",
      "source": [
        "class Domain1D:\n",
        "    def __init__(self, step, min_val=-1, max_val=1):\n",
        "        from numpy import linspace\n",
        "        self.step = step\n",
        "        n = int((max_val - min_val) / step) + 1\n",
        "        self.vals = linspace(min_val, max_val, n)\n",
        "        \n",
        "    def __len__(self): # length in terms of # of grid points\n",
        "        return len(self.vals)\n",
        "    \n",
        "    def __getitem__(self, I): # values by an arbitrary Numpy index-slice `I`\n",
        "        return self.vals[I]"
      ],
      "metadata": {
        "id": "nPIdA1DMGUlr"
      },
      "execution_count": 2,
      "outputs": []
    },
    {
      "cell_type": "markdown",
      "source": [
        "**Define a discrete time domain: $t \\in [0, 120]$ with step size 0.1.**"
      ],
      "metadata": {
        "id": "Mk07tQGRGXye"
      }
    },
    {
      "cell_type": "code",
      "source": [
        "T = Domain1D(0.1, min_val=0.0, max_val=120.0)\n",
        "T[:]"
      ],
      "metadata": {
        "colab": {
          "base_uri": "https://localhost:8080/"
        },
        "id": "WPFhb2kMGcP4",
        "outputId": "970c5680-ef12-44f9-a94f-66aaaf7a40e9"
      },
      "execution_count": 3,
      "outputs": [
        {
          "output_type": "execute_result",
          "data": {
            "text/plain": [
              "array([0.000e+00, 1.000e-01, 2.000e-01, ..., 1.198e+02, 1.199e+02,\n",
              "       1.200e+02])"
            ]
          },
          "metadata": {},
          "execution_count": 3
        }
      ]
    },
    {
      "cell_type": "markdown",
      "source": [
        "**Define a discrete spatial domain: $x \\in [-5, 5]$ with step size 0.01\\**."
      ],
      "metadata": {
        "id": "6Cj00RhDGfZB"
      }
    },
    {
      "cell_type": "code",
      "source": [
        "X = Domain1D(0.01, min_val=-5.0, max_val=5.0)\n",
        "X[:]"
      ],
      "metadata": {
        "colab": {
          "base_uri": "https://localhost:8080/"
        },
        "id": "ZuosdZ_9GiCm",
        "outputId": "6f606438-0444-4b8c-cc91-2b4a01a39a1a"
      },
      "execution_count": 4,
      "outputs": [
        {
          "output_type": "execute_result",
          "data": {
            "text/plain": [
              "array([-5.  , -4.99, -4.98, ...,  4.98,  4.99,  5.  ])"
            ]
          },
          "metadata": {},
          "execution_count": 4
        }
      ]
    }
  ]
}