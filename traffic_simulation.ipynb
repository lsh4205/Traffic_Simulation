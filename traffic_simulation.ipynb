{
  "nbformat": 4,
  "nbformat_minor": 0,
  "metadata": {
    "colab": {
      "provenance": [],
      "toc_visible": true,
      "authorship_tag": "ABX9TyPqjLZodDjt7P1d7jiqcpNA",
      "include_colab_link": true
    },
    "kernelspec": {
      "name": "python3",
      "display_name": "Python 3"
    },
    "language_info": {
      "name": "python"
    }
  },
  "cells": [
    {
      "cell_type": "markdown",
      "metadata": {
        "id": "view-in-github",
        "colab_type": "text"
      },
      "source": [
        "<a href=\"https://colab.research.google.com/github/lsh4205/Traffic_Simulation/blob/main/traffic_simulation.ipynb\" target=\"_parent\"><img src=\"https://colab.research.google.com/assets/colab-badge.svg\" alt=\"Open In Colab\"/></a>"
      ]
    },
    {
      "cell_type": "code",
      "execution_count": 1,
      "metadata": {
        "colab": {
          "base_uri": "https://localhost:8080/"
        },
        "id": "TiQCgIk8BGX9",
        "outputId": "ea04e147-d638-4aae-bac5-14f2e19b3a16"
      },
      "outputs": [
        {
          "output_type": "stream",
          "name": "stdout",
          "text": [
            "Python version: 3.10.11 (main, Apr  5 2023, 14:15:10) [GCC 9.4.0]\n"
          ]
        }
      ],
      "source": [
        "import sys\n",
        "print(\"Python version:\", sys.version)"
      ]
    },
    {
      "cell_type": "markdown",
      "source": [
        "# Define logical 1-D domains #\n",
        "\n",
        "The following class is a small wrapper around a 1-D Numpy array of values that define a discretized domain with a uniform step size."
      ],
      "metadata": {
        "id": "Vt1W1NKvGNpg"
      }
    },
    {
      "cell_type": "code",
      "source": [
        "class Domain1D:\n",
        "    def __init__(self, step, min_val=-1, max_val=1):\n",
        "        from numpy import linspace\n",
        "        self.step = step\n",
        "        n = int((max_val - min_val) / step) + 1\n",
        "        self.vals = linspace(min_val, max_val, n)\n",
        "        \n",
        "    def __len__(self): # length in terms of # of grid points\n",
        "        return len(self.vals)\n",
        "    \n",
        "    def __getitem__(self, I): # values by an arbitrary Numpy index-slice `I`\n",
        "        return self.vals[I]"
      ],
      "metadata": {
        "id": "nPIdA1DMGUlr"
      },
      "execution_count": 2,
      "outputs": []
    },
    {
      "cell_type": "markdown",
      "source": [
        "**Define a discrete time domain: $t \\in [0, 120]$ with step size 0.1.**"
      ],
      "metadata": {
        "id": "Mk07tQGRGXye"
      }
    },
    {
      "cell_type": "code",
      "source": [
        "T = Domain1D(0.1, min_val=0.0, max_val=120.0)\n",
        "T[:]"
      ],
      "metadata": {
        "colab": {
          "base_uri": "https://localhost:8080/"
        },
        "id": "WPFhb2kMGcP4",
        "outputId": "970c5680-ef12-44f9-a94f-66aaaf7a40e9"
      },
      "execution_count": 3,
      "outputs": [
        {
          "output_type": "execute_result",
          "data": {
            "text/plain": [
              "array([0.000e+00, 1.000e-01, 2.000e-01, ..., 1.198e+02, 1.199e+02,\n",
              "       1.200e+02])"
            ]
          },
          "metadata": {},
          "execution_count": 3
        }
      ]
    },
    {
      "cell_type": "markdown",
      "source": [
        "**Define a discrete spatial domain: $x \\in [-5, 5]$ with step size 0.01\\**."
      ],
      "metadata": {
        "id": "6Cj00RhDGfZB"
      }
    },
    {
      "cell_type": "code",
      "source": [
        "X = Domain1D(0.01, min_val=-5.0, max_val=5.0)\n",
        "X[:]"
      ],
      "metadata": {
        "colab": {
          "base_uri": "https://localhost:8080/"
        },
        "id": "ZuosdZ_9GiCm",
        "outputId": "6f606438-0444-4b8c-cc91-2b4a01a39a1a"
      },
      "execution_count": 4,
      "outputs": [
        {
          "output_type": "execute_result",
          "data": {
            "text/plain": [
              "array([-5.  , -4.99, -4.98, ...,  4.98,  4.99,  5.  ])"
            ]
          },
          "metadata": {},
          "execution_count": 4
        }
      ]
    },
    {
      "cell_type": "markdown",
      "source": [
        "# Define a \"solution grid\" #\n",
        "\n",
        "The following class implements a wrapper around a 2-D Numpy array that can be used to hold $u_{j, i} = u(x_i, t_j)$.\n",
        "\n",
        "> The indices of $u_{j,i}$ are transposed relative to the \"whiteboard\" notes."
      ],
      "metadata": {
        "id": "36cemfAZGvvK"
      }
    },
    {
      "cell_type": "markdown",
      "source": [
        "When instantiated, a `Solution1D` object includes \"padding\" in space to hold \"ghost zones,\" which are copies of the endpoints that can help simplify how boundary conditions are handled.\n",
        "\n",
        "In particular, suppose the desired solution domain at discrete time-index $j$ _logically_ consists of the $n$ points $u_{j,0}, u_{j,1}, u_{j,2}, \\ldots, u_{j,n-1}$. The `Solution1D` object creates a _physical_ array of size $n+2$, which has extra cells to the left and right of the logical values, as shown below.\n",
        "\n",
        "$$\\begin{array}{r|c|l}\n",
        "  a_j & u_{j,0} \\: u_{j,1} \\: \\cdots \\: u_{j, n-1} & b_j\n",
        "\\end{array}$$\n",
        "\n",
        "The entries $a_j$ and $b_j$ are the **ghost values**. The function `Solution1D.update_ghosts(j)` will set $a_j \\leftarrow u_{j,n-1}$ and $b \\leftarrow u_{j,0}$, which correspond to **periodic** or **wraparound** boundary conditions."
      ],
      "metadata": {
        "id": "jPcSZ9_NGywS"
      }
    },
    {
      "cell_type": "code",
      "source": [
        "class Solution1D: # with periodic \"ghost boundaries\"\n",
        "    def __init__(self, T, X, u0=None):\n",
        "        from numpy import zeros\n",
        "        assert isinstance(T, Domain1D) and isinstance(X, Domain1D)\n",
        "        self.T = T\n",
        "        self.X = X\n",
        "        self.vals = zeros((len(T), len(X) + 2)) # ghost cells\n",
        "        \n",
        "        if u0 is not None and len(T) > 0:\n",
        "            self.vals[0, 1:-1] = u0(X) if callable(u0) else u0\n",
        "            self.update_ghosts(0)\n",
        "            \n",
        "    def __getitem__(self, s): # values by arbitrary Numpy-style slice\n",
        "        assert isinstance(s, tuple) and len(s) == 2\n",
        "        J, I = s[0], s[1]\n",
        "        return self.vals[J, I]\n",
        "    \n",
        "    def __setitem__(self, s, x):\n",
        "        assert isinstance(s, tuple) and len(s) == 2\n",
        "        J, I = s[0], s[1]\n",
        "        self.vals[J, I] = x\n",
        "        \n",
        "    def __len__(self):\n",
        "        return len(self.T)\n",
        "    \n",
        "    def update_ghosts(self, j): # periodic boundaries\n",
        "        self.vals[j+1, 0] = self.vals[j, -2]\n",
        "        self.vals[j+1, -1] = self.vals[j, 1]"
      ],
      "metadata": {
        "id": "CA4rRzAfGya6"
      },
      "execution_count": 5,
      "outputs": []
    },
    {
      "cell_type": "markdown",
      "source": [
        "**Helper function: visualizer.** The next function will plot the values of a `Solution1D` object `U` at the time points specified by `J`."
      ],
      "metadata": {
        "id": "GXoSSgzMT9j4"
      }
    },
    {
      "cell_type": "code",
      "source": [
        "def plot_grid(U, J=[0]\n",
        "              , figsize=(12, 6.75), markersize=4, linewidth=1\n",
        "              , title_str=None, axes=True\n",
        "             ):\n",
        "    assert isinstance(U, Solution1D)\n",
        "    \n",
        "    from matplotlib.pyplot import figure, gca, plot, legend, show\n",
        "    fig = figure(figsize=figsize)\n",
        "    ax = gca()\n",
        "\n",
        "    for c, j in enumerate(J):\n",
        "        ax.plot(U.X, U[j, 1:-1], 'o-', color=f'C{c}', label=f't={U.T[j]}'\n",
        "                , markersize=markersize, linewidth=linewidth)\n",
        "    ax.set_xlabel(r'$x$')\n",
        "    ax.set_ylabel(r'$\\approx u(x,t)$', rotation=0, horizontalalignment='right')\n",
        "    if title_str is not None:\n",
        "        ax.set_title(title_str, loc='left')\n",
        "    if axes:\n",
        "        ax.axhline(0, color='grey', linewidth=0.5, linestyle='dashed')\n",
        "        ax.axvline(0, color='grey', linewidth=0.5, linestyle='dashed')\n",
        "    legend()\n",
        "    show()"
      ],
      "metadata": {
        "id": "1mxjdIQ9T_nx"
      },
      "execution_count": 8,
      "outputs": []
    },
    {
      "cell_type": "markdown",
      "source": [
        "# Initial conditions #\n",
        "\n",
        "The following helper functions implement different initial conditions over a domain `X`."
      ],
      "metadata": {
        "id": "1fGa8_idUDZC"
      }
    },
    {
      "cell_type": "code",
      "source": [
        "def impulse(X, x0=0.0, w=0.5):\n",
        "    \"\"\"A rectangular impulse of height 1.0 centered at `x0` with width `2*w`.\"\"\"\n",
        "    assert isinstance(X, Domain1D)\n",
        "    from numpy import zeros\n",
        "    u0 = zeros(len(X))\n",
        "    I1 = (-5 <= X.vals) & (X.vals < -0.25)\n",
        "    I2 = (-0.25 <= X.vals) & (X.vals < 0)\n",
        "    I3 = (0 <= X.vals) & (X.vals <= 5)\n",
        "    u0[I1] = 80.0\n",
        "    u0[I2] = 160.0\n",
        "    u0[I3] = 0\n",
        "    return u0"
      ],
      "metadata": {
        "id": "XUeNN5jDUF7L"
      },
      "execution_count": 9,
      "outputs": []
    },
    {
      "cell_type": "code",
      "source": [
        "# Demo:\n",
        "U_impulse = Solution1D(T, X, u0=impulse)\n",
        "plot_grid(U_impulse, title_str=r'Unit impulse at $x=0$')"
      ],
      "metadata": {
        "colab": {
          "base_uri": "https://localhost:8080/",
          "height": 644
        },
        "id": "WSVL9P-0UIDi",
        "outputId": "2ee0e2d8-7260-416c-d416-4a46607a488a"
      },
      "execution_count": 10,
      "outputs": [
        {
          "output_type": "display_data",
          "data": {
            "text/plain": [
              "<Figure size 1200x675 with 1 Axes>"
            ],
            "image/png": "[encoded data removed]"
          },
          "metadata": {}
        }
      ]
    },
    {
      "cell_type": "markdown",
      "source": [
        "> An initial shock. Suppose the maximum density\n",
        "ρmax is 160 cars per km. Traffic\n",
        "enters from the left ($x=−5$ km)\n",
        "at 80 cars per km, half the maximum density. This density is\n",
        "fixed until $x=−0.25$ km, where a\n",
        "“shock” occurs, meaning traffic\n",
        "suddently hits the maximum\n",
        "density. This shock extends until $x=0$ km. To the right of that\n",
        "point, the density is zero."
      ],
      "metadata": {
        "id": "FjulbFwpcmul"
      }
    },
    {
      "cell_type": "markdown",
      "source": [
        "# Simulator #\n",
        "\n",
        "Generically, a numerical method takes a `Solution1D` grid as input with some initial condition at `U[0, :]`, and repeatedly runs an update step (`stepper`) to compute the grid at the next time point `U[j+1, :]` from the earlier one at `U[j, :]`."
      ],
      "metadata": {
        "id": "o8_LX3szUNtz"
      }
    },
    {
      "cell_type": "code",
      "source": [
        "def simulate(U, stepper): # modifies `U` in-place\n",
        "    for j in range(0, len(U)-1):\n",
        "        stepper(U, j)\n",
        "        U.update_ghosts(j)"
      ],
      "metadata": {
        "id": "1Z_ZXRNaUQkm"
      },
      "execution_count": 11,
      "outputs": []
    },
    {
      "cell_type": "code",
      "source": [
        "def flows(p, dt, dx):\n",
        "    v_max = 120 / (60 * 60)\n",
        "    rho_max = 160\n",
        "    return v_max * p * (1 - p / rho_max)"
      ],
      "metadata": {
        "id": "qxhmbBccURxb"
      },
      "execution_count": 12,
      "outputs": []
    },
    {
      "cell_type": "markdown",
      "source": [
        "# 1. PDE-Based Model\n",
        "\n",
        "\n"
      ],
      "metadata": {
        "id": "XlZW7dqEU22z"
      }
    },
    {
      "cell_type": "markdown",
      "source": [
        "• $ρ = ρ(x, t)$ be the density of cars at position $x$ and time $t$, having\n",
        "units of, say, number of vehicles per $km$;\n",
        "\n",
        "• $v = v(x, t)$ be the velocity of a car at position $x$ and time $t$, in units\n",
        "of $km/h$.\n",
        "\n",
        "• $f = f(x, t)$ be the flow of cars at position x and time t, in units of number of vehicles per hour.\n",
        "\n",
        "These are interrelated by $f = ρv$, which is consistent with the units.\n",
        "\n",
        "Suppose the initial conditions $ρ(x, 0) ≡ ρ_0(x)$, $v(x, 0) ≡ v_0(x)$ are given. Furthermore, assume that vehicles cannot travel faster than\n",
        "$v_{max}$ , and that maximum density of vehicles at any point on the road is $ρ_{max}$ .\n",
        "\n",
        "The general LWR model says the state of the system evolves in 5 The maximum density would be\n",
        "related to, say, the typical length of a\n",
        "vehicle, which determines the largest\n",
        "number of vehicles that can occupy a\n",
        "region of space.\n",
        "time and space according to the partial differential equation (PDE),\n",
        "\n",
        "\\begin{align}\n",
        "\\frac{∂ρ}{∂t}= −\\frac{∂f}{∂x}\n",
        "\\end{align}\n",
        "\n",
        "\n",
        "We make two additional simplifying assumptions. First, we assume that the flow $f$ is an explicit function of $ρ$ only, i.e., $f = f(ρ)$.\n",
        "When imposing this assumption on\n",
        "eq. (1), the resulting model is sometimes called the shallow-water equation or\n",
        "transport equation, and it is an instance\n",
        "of a nonlinear hyperbolic PDE.\n",
        "\n",
        "Second, we assume f has the form of a logistic function,\n",
        "\n",
        "\\begin{align}\n",
        "f(ρ) = v_{max} \\cdot ρ \\left( 1 - \\frac{ρ}{ρ_{max}} \\right)\n",
        "\\end{align}\n",
        "Substituting eq. (2) into eq. (1) yields\n",
        "\n",
        "\\begin{align}\n",
        "\\frac{∂ρ}{∂t} = − \\frac{∂f}{∂x}\n",
        "\\end{align}\n",
        "\n",
        "\\begin{align}\n",
        "= -\\left( \\frac{df}{dρ} \\right) \\frac{∂ρ}{∂x}\n",
        "\\end{align}\n",
        "\n",
        "\\begin{align}\n",
        "= -\\left( \\frac{df}{dρ} \\right) \\frac{∂ρ}{∂x}\n",
        "\\end{align}\n",
        "\n",
        "\\begin{align}\n",
        "= −v_{max} \\left( 1 − 2 \\frac{ρ}{ρ_{max}} \\right) \\frac{∂ρ}{∂x}\n",
        "\\end{align}"
      ],
      "metadata": {
        "id": "Fqq6WkK1VuvY"
      }
    },
    {
      "cell_type": "markdown",
      "source": [
        ">This model is the one we wish to simulate numerically. We will\n",
        "implement and compare two methods in sections 1.1 and 1.2."
      ],
      "metadata": {
        "id": "QirGvkZGbfl6"
      }
    },
    {
      "cell_type": "markdown",
      "source": [
        "##1.1) Upwind-Scheme\n"
      ],
      "metadata": {
        "id": "cRMNAlhVVFEY"
      }
    },
    {
      "cell_type": "code",
      "source": [
        "def step_upwind(U, j, c):\n",
        "    dt, dx = U.T.step, U.X.step\n",
        "    for i in range(0, len(U[j, :]) - 1):\n",
        "            U[j + 1, i] = U[j,i] - dt/dx \\\n",
        "                        * (flows(U[j, i+1], dt, dx) - flows(U[j, i], dt, dx))\n",
        "            # Prevent negative densities\n",
        "            if U[j+1, i] < 0: U[j+1,i] = 0"
      ],
      "metadata": {
        "id": "WLopEvPWdLBV"
      },
      "execution_count": 13,
      "outputs": []
    },
    {
      "cell_type": "markdown",
      "source": [
        "##1.2) Lax-Friedrichs scheme"
      ],
      "metadata": {
        "id": "sPyedkkWdUrl"
      }
    },
    {
      "cell_type": "code",
      "source": [
        "def step_lf(U, j, c):\n",
        "    dt, dx = U.T.step, U.X.step\n",
        "    for i in range(1, len(U[j, :])-1):\n",
        "        U[j + 1, i] = 0.5 * (U[j, i+1] + U[j, i-1])\\\n",
        "                     - dt/dx * 0.5 * (flows(U[j, i+1], dt, dx) - flows(U[j,i-1], dt, dx))"
      ],
      "metadata": {
        "id": "C1EKOWuPdar6"
      },
      "execution_count": 14,
      "outputs": []
    },
    {
      "cell_type": "markdown",
      "source": [
        "## Simulation"
      ],
      "metadata": {
        "id": "oJNFSvPodhyq"
      }
    },
    {
      "cell_type": "code",
      "source": [
        "def cfl(c, h=None, s=None, U=None):\n",
        "    if h is None and U is not None:\n",
        "        h = U.T.step\n",
        "    if s is None and U is not None:\n",
        "        s = U.X.step\n",
        "    assert h is not None and s is not None, \\\n",
        "           f\"*** Can't determine time and/or step size (`h`={h}, `s`={s}) ***\"\n",
        "    return c * h / s"
      ],
      "metadata": {
        "id": "LOUOvotgdtpH"
      },
      "execution_count": null,
      "outputs": []
    }
  ]
}