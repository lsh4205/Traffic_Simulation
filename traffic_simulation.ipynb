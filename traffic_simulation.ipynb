{
  "nbformat": 4,
  "nbformat_minor": 0,
  "metadata": {
    "colab": {
      "provenance": [],
      "toc_visible": true,
      "authorship_tag": "ABX9TyMMtE2ZR6XkFwPD8kEMlIqx",
      "include_colab_link": true
    },
    "kernelspec": {
      "name": "python3",
      "display_name": "Python 3"
    },
    "language_info": {
      "name": "python"
    },
    "widgets": {
      "application/vnd.jupyter.widget-state+json": {
        "3f0f62c997364f74aeff35f266d19a5a": {
          "model_module": "@jupyter-widgets/controls",
          "model_name": "VBoxModel",
          "model_module_version": "1.5.0",
          "state": {
            "_dom_classes": [
              "widget-interact"
            ],
            "_model_module": "@jupyter-widgets/controls",
            "_model_module_version": "1.5.0",
            "_model_name": "VBoxModel",
            "_view_count": null,
            "_view_module": "@jupyter-widgets/controls",
            "_view_module_version": "1.5.0",
            "_view_name": "VBoxView",
            "box_style": "",
            "children": [
              "IPY_MODEL_e41618942f27425f94273a448bf921d6",
              "IPY_MODEL_ccdc81bae49f4caf928e91929abf721a",
              "IPY_MODEL_6fcbde0225d24e78a91db9a273af191d",
              "IPY_MODEL_e48024bbfa3a44d48271eebc21c29475",
              "IPY_MODEL_4c477094cac6483a810d16a6757b709f",
              "IPY_MODEL_0c8dd5ec19d74c2bbce29ed28c0b6e0e",
              "IPY_MODEL_784854957d7049b6ae93b3eb38b2cbe5",
              "IPY_MODEL_334864e2c5354a01811aba5c3f829329"
            ],
            "layout": "IPY_MODEL_78afc69c1a3d499297dcb782d604badb"
          }
        },
        "e41618942f27425f94273a448bf921d6": {
          "model_module": "@jupyter-widgets/controls",
          "model_name": "FloatSliderModel",
          "model_module_version": "1.5.0",
          "state": {
            "_dom_classes": [],
            "_model_module": "@jupyter-widgets/controls",
            "_model_module_version": "1.5.0",
            "_model_name": "FloatSliderModel",
            "_view_count": null,
            "_view_module": "@jupyter-widgets/controls",
            "_view_module_version": "1.5.0",
            "_view_name": "FloatSliderView",
            "continuous_update": true,
            "description": "c",
            "description_tooltip": null,
            "disabled": false,
            "layout": "IPY_MODEL_215d6bf924824e94a75450fb6a51db0b",
            "max": 1,
            "min": -1,
            "orientation": "horizontal",
            "readout": true,
            "readout_format": ".2f",
            "step": 0.2,
            "style": "IPY_MODEL_b8a59eaff1b84dc39c1c43515feadadf",
            "value": 1
          }
        },
        "ccdc81bae49f4caf928e91929abf721a": {
          "model_module": "@jupyter-widgets/controls",
          "model_name": "DropdownModel",
          "model_module_version": "1.5.0",
          "state": {
            "_dom_classes": [],
            "_model_module": "@jupyter-widgets/controls",
            "_model_module_version": "1.5.0",
            "_model_name": "DropdownModel",
            "_options_labels": [
              "0.01",
              "0.02",
              "0.05",
              "0.1",
              "0.2",
              "0.5"
            ],
            "_view_count": null,
            "_view_module": "@jupyter-widgets/controls",
            "_view_module_version": "1.5.0",
            "_view_name": "DropdownView",
            "description": "h",
            "description_tooltip": null,
            "disabled": false,
            "index": 0,
            "layout": "IPY_MODEL_48e6803e436b4b4589d7fa8a3249dfcc",
            "style": "IPY_MODEL_f4a2c48fd3094bc9b093c6f28cc0dd24"
          }
        },
        "6fcbde0225d24e78a91db9a273af191d": {
          "model_module": "@jupyter-widgets/controls",
          "model_name": "DropdownModel",
          "model_module_version": "1.5.0",
          "state": {
            "_dom_classes": [],
            "_model_module": "@jupyter-widgets/controls",
            "_model_module_version": "1.5.0",
            "_model_name": "DropdownModel",
            "_options_labels": [
              "0.01",
              "0.02",
              "0.05",
              "0.1",
              "0.2",
              "0.5"
            ],
            "_view_count": null,
            "_view_module": "@jupyter-widgets/controls",
            "_view_module_version": "1.5.0",
            "_view_name": "DropdownView",
            "description": "s",
            "description_tooltip": null,
            "disabled": false,
            "index": 0,
            "layout": "IPY_MODEL_fdbdeda47fa44be6b7dd308ed747f775",
            "style": "IPY_MODEL_d0b8cc8509f0450a9bf5ed3b701c7c8a"
          }
        },
        "e48024bbfa3a44d48271eebc21c29475": {
          "model_module": "@jupyter-widgets/controls",
          "model_name": "DropdownModel",
          "model_module_version": "1.5.0",
          "state": {
            "_dom_classes": [],
            "_model_module": "@jupyter-widgets/controls",
            "_model_module_version": "1.5.0",
            "_model_name": "DropdownModel",
            "_options_labels": [
              "impulse"
            ],
            "_view_count": null,
            "_view_module": "@jupyter-widgets/controls",
            "_view_module_version": "1.5.0",
            "_view_name": "DropdownView",
            "description": "u0",
            "description_tooltip": null,
            "disabled": false,
            "index": 0,
            "layout": "IPY_MODEL_a40a3518d8064a98ad8f74ea6095cfb6",
            "style": "IPY_MODEL_e30ec643ba61411e8d2ef38e807db550"
          }
        },
        "4c477094cac6483a810d16a6757b709f": {
          "model_module": "@jupyter-widgets/controls",
          "model_name": "DropdownModel",
          "model_module_version": "1.5.0",
          "state": {
            "_dom_classes": [],
            "_model_module": "@jupyter-widgets/controls",
            "_model_module_version": "1.5.0",
            "_model_name": "DropdownModel",
            "_options_labels": [
              "Lax-Friedrichs",
              "upwind"
            ],
            "_view_count": null,
            "_view_module": "@jupyter-widgets/controls",
            "_view_module_version": "1.5.0",
            "_view_name": "DropdownView",
            "description": "stepper",
            "description_tooltip": null,
            "disabled": false,
            "index": 0,
            "layout": "IPY_MODEL_0f901bbf53834e6c9decdca3960b2fa3",
            "style": "IPY_MODEL_0c723fb1834244f699e4bb301b18eeab"
          }
        },
        "0c8dd5ec19d74c2bbce29ed28c0b6e0e": {
          "model_module": "@jupyter-widgets/controls",
          "model_name": "FloatSliderModel",
          "model_module_version": "1.5.0",
          "state": {
            "_dom_classes": [],
            "_model_module": "@jupyter-widgets/controls",
            "_model_module_version": "1.5.0",
            "_model_name": "FloatSliderModel",
            "_view_count": null,
            "_view_module": "@jupyter-widgets/controls",
            "_view_module_version": "1.5.0",
            "_view_name": "FloatSliderView",
            "continuous_update": true,
            "description": "x_max",
            "description_tooltip": null,
            "disabled": false,
            "layout": "IPY_MODEL_d42c4da2702d4b9693f1c7afdee2518d",
            "max": 5,
            "min": 1,
            "orientation": "horizontal",
            "readout": true,
            "readout_format": ".2f",
            "step": 0.1,
            "style": "IPY_MODEL_0c6442ff1dc1407d83eeec998bdf4e8e",
            "value": 5
          }
        },
        "784854957d7049b6ae93b3eb38b2cbe5": {
          "model_module": "@jupyter-widgets/controls",
          "model_name": "DropdownModel",
          "model_module_version": "1.5.0",
          "state": {
            "_dom_classes": [],
            "_model_module": "@jupyter-widgets/controls",
            "_model_module_version": "1.5.0",
            "_model_name": "DropdownModel",
            "_options_labels": [
              "2",
              "4",
              "8",
              "16",
              "32",
              "64",
              "128",
              "256",
              "512",
              "1024"
            ],
            "_view_count": null,
            "_view_module": "@jupyter-widgets/controls",
            "_view_module_version": "1.5.0",
            "_view_name": "DropdownView",
            "description": "num_steps",
            "description_tooltip": null,
            "disabled": false,
            "index": 7,
            "layout": "IPY_MODEL_e9a3f0db693140c2a8a016ceff982b72",
            "style": "IPY_MODEL_3ceda0c2bc2546899738f75226b1ca35"
          }
        },
        "334864e2c5354a01811aba5c3f829329": {
          "model_module": "@jupyter-widgets/output",
          "model_name": "OutputModel",
          "model_module_version": "1.0.0",
          "state": {
            "_dom_classes": [],
            "_model_module": "@jupyter-widgets/output",
            "_model_module_version": "1.0.0",
            "_model_name": "OutputModel",
            "_view_count": null,
            "_view_module": "@jupyter-widgets/output",
            "_view_module_version": "1.0.0",
            "_view_name": "OutputView",
            "layout": "IPY_MODEL_d3ca8f84b4f54bb58b13af3cafd22b94",
            "msg_id": "",
            "outputs": [
              {
                "output_type": "display_data",
                "data": {
                  "text/plain": "<Figure size 1200x675 with 1 Axes>",
                  "image/png": "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\n"
                },
                "metadata": {}
              }
            ]
          }
        },
        "78afc69c1a3d499297dcb782d604badb": {
          "model_module": "@jupyter-widgets/base",
          "model_name": "LayoutModel",
          "model_module_version": "1.2.0",
          "state": {
            "_model_module": "@jupyter-widgets/base",
            "_model_module_version": "1.2.0",
            "_model_name": "LayoutModel",
            "_view_count": null,
            "_view_module": "@jupyter-widgets/base",
            "_view_module_version": "1.2.0",
            "_view_name": "LayoutView",
            "align_content": null,
            "align_items": null,
            "align_self": null,
            "border": null,
            "bottom": null,
            "display": null,
            "flex": null,
            "flex_flow": null,
            "grid_area": null,
            "grid_auto_columns": null,
            "grid_auto_flow": null,
            "grid_auto_rows": null,
            "grid_column": null,
            "grid_gap": null,
            "grid_row": null,
            "grid_template_areas": null,
            "grid_template_columns": null,
            "grid_template_rows": null,
            "height": null,
            "justify_content": null,
            "justify_items": null,
            "left": null,
            "margin": null,
            "max_height": null,
            "max_width": null,
            "min_height": null,
            "min_width": null,
            "object_fit": null,
            "object_position": null,
            "order": null,
            "overflow": null,
            "overflow_x": null,
            "overflow_y": null,
            "padding": null,
            "right": null,
            "top": null,
            "visibility": null,
            "width": null
          }
        },
        "215d6bf924824e94a75450fb6a51db0b": {
          "model_module": "@jupyter-widgets/base",
          "model_name": "LayoutModel",
          "model_module_version": "1.2.0",
          "state": {
            "_model_module": "@jupyter-widgets/base",
            "_model_module_version": "1.2.0",
            "_model_name": "LayoutModel",
            "_view_count": null,
            "_view_module": "@jupyter-widgets/base",
            "_view_module_version": "1.2.0",
            "_view_name": "LayoutView",
            "align_content": null,
            "align_items": null,
            "align_self": null,
            "border": null,
            "bottom": null,
            "display": null,
            "flex": null,
            "flex_flow": null,
            "grid_area": null,
            "grid_auto_columns": null,
            "grid_auto_flow": null,
            "grid_auto_rows": null,
            "grid_column": null,
            "grid_gap": null,
            "grid_row": null,
            "grid_template_areas": null,
            "grid_template_columns": null,
            "grid_template_rows": null,
            "height": null,
            "justify_content": null,
            "justify_items": null,
            "left": null,
            "margin": null,
            "max_height": null,
            "max_width": null,
            "min_height": null,
            "min_width": null,
            "object_fit": null,
            "object_position": null,
            "order": null,
            "overflow": null,
            "overflow_x": null,
            "overflow_y": null,
            "padding": null,
            "right": null,
            "top": null,
            "visibility": null,
            "width": null
          }
        },
        "b8a59eaff1b84dc39c1c43515feadadf": {
          "model_module": "@jupyter-widgets/controls",
          "model_name": "SliderStyleModel",
          "model_module_version": "1.5.0",
          "state": {
            "_model_module": "@jupyter-widgets/controls",
            "_model_module_version": "1.5.0",
            "_model_name": "SliderStyleModel",
            "_view_count": null,
            "_view_module": "@jupyter-widgets/base",
            "_view_module_version": "1.2.0",
            "_view_name": "StyleView",
            "description_width": "",
            "handle_color": null
          }
        },
        "48e6803e436b4b4589d7fa8a3249dfcc": {
          "model_module": "@jupyter-widgets/base",
          "model_name": "LayoutModel",
          "model_module_version": "1.2.0",
          "state": {
            "_model_module": "@jupyter-widgets/base",
            "_model_module_version": "1.2.0",
            "_model_name": "LayoutModel",
            "_view_count": null,
            "_view_module": "@jupyter-widgets/base",
            "_view_module_version": "1.2.0",
            "_view_name": "LayoutView",
            "align_content": null,
            "align_items": null,
            "align_self": null,
            "border": null,
            "bottom": null,
            "display": null,
            "flex": null,
            "flex_flow": null,
            "grid_area": null,
            "grid_auto_columns": null,
            "grid_auto_flow": null,
            "grid_auto_rows": null,
            "grid_column": null,
            "grid_gap": null,
            "grid_row": null,
            "grid_template_areas": null,
            "grid_template_columns": null,
            "grid_template_rows": null,
            "height": null,
            "justify_content": null,
            "justify_items": null,
            "left": null,
            "margin": null,
            "max_height": null,
            "max_width": null,
            "min_height": null,
            "min_width": null,
            "object_fit": null,
            "object_position": null,
            "order": null,
            "overflow": null,
            "overflow_x": null,
            "overflow_y": null,
            "padding": null,
            "right": null,
            "top": null,
            "visibility": null,
            "width": null
          }
        },
        "f4a2c48fd3094bc9b093c6f28cc0dd24": {
          "model_module": "@jupyter-widgets/controls",
          "model_name": "DescriptionStyleModel",
          "model_module_version": "1.5.0",
          "state": {
            "_model_module": "@jupyter-widgets/controls",
            "_model_module_version": "1.5.0",
            "_model_name": "DescriptionStyleModel",
            "_view_count": null,
            "_view_module": "@jupyter-widgets/base",
            "_view_module_version": "1.2.0",
            "_view_name": "StyleView",
            "description_width": ""
          }
        },
        "fdbdeda47fa44be6b7dd308ed747f775": {
          "model_module": "@jupyter-widgets/base",
          "model_name": "LayoutModel",
          "model_module_version": "1.2.0",
          "state": {
            "_model_module": "@jupyter-widgets/base",
            "_model_module_version": "1.2.0",
            "_model_name": "LayoutModel",
            "_view_count": null,
            "_view_module": "@jupyter-widgets/base",
            "_view_module_version": "1.2.0",
            "_view_name": "LayoutView",
            "align_content": null,
            "align_items": null,
            "align_self": null,
            "border": null,
            "bottom": null,
            "display": null,
            "flex": null,
            "flex_flow": null,
            "grid_area": null,
            "grid_auto_columns": null,
            "grid_auto_flow": null,
            "grid_auto_rows": null,
            "grid_column": null,
            "grid_gap": null,
            "grid_row": null,
            "grid_template_areas": null,
            "grid_template_columns": null,
            "grid_template_rows": null,
            "height": null,
            "justify_content": null,
            "justify_items": null,
            "left": null,
            "margin": null,
            "max_height": null,
            "max_width": null,
            "min_height": null,
            "min_width": null,
            "object_fit": null,
            "object_position": null,
            "order": null,
            "overflow": null,
            "overflow_x": null,
            "overflow_y": null,
            "padding": null,
            "right": null,
            "top": null,
            "visibility": null,
            "width": null
          }
        },
        "d0b8cc8509f0450a9bf5ed3b701c7c8a": {
          "model_module": "@jupyter-widgets/controls",
          "model_name": "DescriptionStyleModel",
          "model_module_version": "1.5.0",
          "state": {
            "_model_module": "@jupyter-widgets/controls",
            "_model_module_version": "1.5.0",
            "_model_name": "DescriptionStyleModel",
            "_view_count": null,
            "_view_module": "@jupyter-widgets/base",
            "_view_module_version": "1.2.0",
            "_view_name": "StyleView",
            "description_width": ""
          }
        },
        "a40a3518d8064a98ad8f74ea6095cfb6": {
          "model_module": "@jupyter-widgets/base",
          "model_name": "LayoutModel",
          "model_module_version": "1.2.0",
          "state": {
            "_model_module": "@jupyter-widgets/base",
            "_model_module_version": "1.2.0",
            "_model_name": "LayoutModel",
            "_view_count": null,
            "_view_module": "@jupyter-widgets/base",
            "_view_module_version": "1.2.0",
            "_view_name": "LayoutView",
            "align_content": null,
            "align_items": null,
            "align_self": null,
            "border": null,
            "bottom": null,
            "display": null,
            "flex": null,
            "flex_flow": null,
            "grid_area": null,
            "grid_auto_columns": null,
            "grid_auto_flow": null,
            "grid_auto_rows": null,
            "grid_column": null,
            "grid_gap": null,
            "grid_row": null,
            "grid_template_areas": null,
            "grid_template_columns": null,
            "grid_template_rows": null,
            "height": null,
            "justify_content": null,
            "justify_items": null,
            "left": null,
            "margin": null,
            "max_height": null,
            "max_width": null,
            "min_height": null,
            "min_width": null,
            "object_fit": null,
            "object_position": null,
            "order": null,
            "overflow": null,
            "overflow_x": null,
            "overflow_y": null,
            "padding": null,
            "right": null,
            "top": null,
            "visibility": null,
            "width": null
          }
        },
        "e30ec643ba61411e8d2ef38e807db550": {
          "model_module": "@jupyter-widgets/controls",
          "model_name": "DescriptionStyleModel",
          "model_module_version": "1.5.0",
          "state": {
            "_model_module": "@jupyter-widgets/controls",
            "_model_module_version": "1.5.0",
            "_model_name": "DescriptionStyleModel",
            "_view_count": null,
            "_view_module": "@jupyter-widgets/base",
            "_view_module_version": "1.2.0",
            "_view_name": "StyleView",
            "description_width": ""
          }
        },
        "0f901bbf53834e6c9decdca3960b2fa3": {
          "model_module": "@jupyter-widgets/base",
          "model_name": "LayoutModel",
          "model_module_version": "1.2.0",
          "state": {
            "_model_module": "@jupyter-widgets/base",
            "_model_module_version": "1.2.0",
            "_model_name": "LayoutModel",
            "_view_count": null,
            "_view_module": "@jupyter-widgets/base",
            "_view_module_version": "1.2.0",
            "_view_name": "LayoutView",
            "align_content": null,
            "align_items": null,
            "align_self": null,
            "border": null,
            "bottom": null,
            "display": null,
            "flex": null,
            "flex_flow": null,
            "grid_area": null,
            "grid_auto_columns": null,
            "grid_auto_flow": null,
            "grid_auto_rows": null,
            "grid_column": null,
            "grid_gap": null,
            "grid_row": null,
            "grid_template_areas": null,
            "grid_template_columns": null,
            "grid_template_rows": null,
            "height": null,
            "justify_content": null,
            "justify_items": null,
            "left": null,
            "margin": null,
            "max_height": null,
            "max_width": null,
            "min_height": null,
            "min_width": null,
            "object_fit": null,
            "object_position": null,
            "order": null,
            "overflow": null,
            "overflow_x": null,
            "overflow_y": null,
            "padding": null,
            "right": null,
            "top": null,
            "visibility": null,
            "width": null
          }
        },
        "0c723fb1834244f699e4bb301b18eeab": {
          "model_module": "@jupyter-widgets/controls",
          "model_name": "DescriptionStyleModel",
          "model_module_version": "1.5.0",
          "state": {
            "_model_module": "@jupyter-widgets/controls",
            "_model_module_version": "1.5.0",
            "_model_name": "DescriptionStyleModel",
            "_view_count": null,
            "_view_module": "@jupyter-widgets/base",
            "_view_module_version": "1.2.0",
            "_view_name": "StyleView",
            "description_width": ""
          }
        },
        "d42c4da2702d4b9693f1c7afdee2518d": {
          "model_module": "@jupyter-widgets/base",
          "model_name": "LayoutModel",
          "model_module_version": "1.2.0",
          "state": {
            "_model_module": "@jupyter-widgets/base",
            "_model_module_version": "1.2.0",
            "_model_name": "LayoutModel",
            "_view_count": null,
            "_view_module": "@jupyter-widgets/base",
            "_view_module_version": "1.2.0",
            "_view_name": "LayoutView",
            "align_content": null,
            "align_items": null,
            "align_self": null,
            "border": null,
            "bottom": null,
            "display": null,
            "flex": null,
            "flex_flow": null,
            "grid_area": null,
            "grid_auto_columns": null,
            "grid_auto_flow": null,
            "grid_auto_rows": null,
            "grid_column": null,
            "grid_gap": null,
            "grid_row": null,
            "grid_template_areas": null,
            "grid_template_columns": null,
            "grid_template_rows": null,
            "height": null,
            "justify_content": null,
            "justify_items": null,
            "left": null,
            "margin": null,
            "max_height": null,
            "max_width": null,
            "min_height": null,
            "min_width": null,
            "object_fit": null,
            "object_position": null,
            "order": null,
            "overflow": null,
            "overflow_x": null,
            "overflow_y": null,
            "padding": null,
            "right": null,
            "top": null,
            "visibility": null,
            "width": null
          }
        },
        "0c6442ff1dc1407d83eeec998bdf4e8e": {
          "model_module": "@jupyter-widgets/controls",
          "model_name": "SliderStyleModel",
          "model_module_version": "1.5.0",
          "state": {
            "_model_module": "@jupyter-widgets/controls",
            "_model_module_version": "1.5.0",
            "_model_name": "SliderStyleModel",
            "_view_count": null,
            "_view_module": "@jupyter-widgets/base",
            "_view_module_version": "1.2.0",
            "_view_name": "StyleView",
            "description_width": "",
            "handle_color": null
          }
        },
        "e9a3f0db693140c2a8a016ceff982b72": {
          "model_module": "@jupyter-widgets/base",
          "model_name": "LayoutModel",
          "model_module_version": "1.2.0",
          "state": {
            "_model_module": "@jupyter-widgets/base",
            "_model_module_version": "1.2.0",
            "_model_name": "LayoutModel",
            "_view_count": null,
            "_view_module": "@jupyter-widgets/base",
            "_view_module_version": "1.2.0",
            "_view_name": "LayoutView",
            "align_content": null,
            "align_items": null,
            "align_self": null,
            "border": null,
            "bottom": null,
            "display": null,
            "flex": null,
            "flex_flow": null,
            "grid_area": null,
            "grid_auto_columns": null,
            "grid_auto_flow": null,
            "grid_auto_rows": null,
            "grid_column": null,
            "grid_gap": null,
            "grid_row": null,
            "grid_template_areas": null,
            "grid_template_columns": null,
            "grid_template_rows": null,
            "height": null,
            "justify_content": null,
            "justify_items": null,
            "left": null,
            "margin": null,
            "max_height": null,
            "max_width": null,
            "min_height": null,
            "min_width": null,
            "object_fit": null,
            "object_position": null,
            "order": null,
            "overflow": null,
            "overflow_x": null,
            "overflow_y": null,
            "padding": null,
            "right": null,
            "top": null,
            "visibility": null,
            "width": null
          }
        },
        "3ceda0c2bc2546899738f75226b1ca35": {
          "model_module": "@jupyter-widgets/controls",
          "model_name": "DescriptionStyleModel",
          "model_module_version": "1.5.0",
          "state": {
            "_model_module": "@jupyter-widgets/controls",
            "_model_module_version": "1.5.0",
            "_model_name": "DescriptionStyleModel",
            "_view_count": null,
            "_view_module": "@jupyter-widgets/base",
            "_view_module_version": "1.2.0",
            "_view_name": "StyleView",
            "description_width": ""
          }
        },
        "d3ca8f84b4f54bb58b13af3cafd22b94": {
          "model_module": "@jupyter-widgets/base",
          "model_name": "LayoutModel",
          "model_module_version": "1.2.0",
          "state": {
            "_model_module": "@jupyter-widgets/base",
            "_model_module_version": "1.2.0",
            "_model_name": "LayoutModel",
            "_view_count": null,
            "_view_module": "@jupyter-widgets/base",
            "_view_module_version": "1.2.0",
            "_view_name": "LayoutView",
            "align_content": null,
            "align_items": null,
            "align_self": null,
            "border": null,
            "bottom": null,
            "display": null,
            "flex": null,
            "flex_flow": null,
            "grid_area": null,
            "grid_auto_columns": null,
            "grid_auto_flow": null,
            "grid_auto_rows": null,
            "grid_column": null,
            "grid_gap": null,
            "grid_row": null,
            "grid_template_areas": null,
            "grid_template_columns": null,
            "grid_template_rows": null,
            "height": null,
            "justify_content": null,
            "justify_items": null,
            "left": null,
            "margin": null,
            "max_height": null,
            "max_width": null,
            "min_height": null,
            "min_width": null,
            "object_fit": null,
            "object_position": null,
            "order": null,
            "overflow": null,
            "overflow_x": null,
            "overflow_y": null,
            "padding": null,
            "right": null,
            "top": null,
            "visibility": null,
            "width": null
          }
        }
      }
    }
  },
  "cells": [
    {
      "cell_type": "markdown",
      "metadata": {
        "id": "view-in-github",
        "colab_type": "text"
      },
      "source": [
        "<a href=\"https://colab.research.google.com/github/lsh4205/Traffic_Simulation/blob/main/traffic_simulation.ipynb\" target=\"_parent\"><img src=\"https://colab.research.google.com/assets/colab-badge.svg\" alt=\"Open In Colab\"/></a>"
      ]
    },
    {
      "cell_type": "code",
      "execution_count": 1,
      "metadata": {
        "colab": {
          "base_uri": "https://localhost:8080/"
        },
        "id": "TiQCgIk8BGX9",
        "outputId": "ea04e147-d638-4aae-bac5-14f2e19b3a16"
      },
      "outputs": [
        {
          "output_type": "stream",
          "name": "stdout",
          "text": [
            "Python version: 3.10.11 (main, Apr  5 2023, 14:15:10) [GCC 9.4.0]\n"
          ]
        }
      ],
      "source": [
        "import sys\n",
        "print(\"Python version:\", sys.version)"
      ]
    },
    {
      "cell_type": "markdown",
      "source": [
        "# Define logical 1-D domains #\n",
        "\n",
        "The following class is a small wrapper around a 1-D Numpy array of values that define a discretized domain with a uniform step size."
      ],
      "metadata": {
        "id": "Vt1W1NKvGNpg"
      }
    },
    {
      "cell_type": "code",
      "source": [
        "class Domain1D:\n",
        "    def __init__(self, step, min_val=-1, max_val=1):\n",
        "        from numpy import linspace\n",
        "        self.step = step\n",
        "        n = int((max_val - min_val) / step) + 1\n",
        "        self.vals = linspace(min_val, max_val, n)\n",
        "        \n",
        "    def __len__(self): # length in terms of # of grid points\n",
        "        return len(self.vals)\n",
        "    \n",
        "    def __getitem__(self, I): # values by an arbitrary Numpy index-slice `I`\n",
        "        return self.vals[I]"
      ],
      "metadata": {
        "id": "nPIdA1DMGUlr"
      },
      "execution_count": 2,
      "outputs": []
    },
    {
      "cell_type": "markdown",
      "source": [
        "**Define a discrete time domain: $t \\in [0, 120]$ with step size 0.1.**"
      ],
      "metadata": {
        "id": "Mk07tQGRGXye"
      }
    },
    {
      "cell_type": "code",
      "source": [
        "T = Domain1D(0.1, min_val=0.0, max_val=120.0)\n",
        "T[:]"
      ],
      "metadata": {
        "colab": {
          "base_uri": "https://localhost:8080/"
        },
        "id": "WPFhb2kMGcP4",
        "outputId": "970c5680-ef12-44f9-a94f-66aaaf7a40e9"
      },
      "execution_count": 3,
      "outputs": [
        {
          "output_type": "execute_result",
          "data": {
            "text/plain": [
              "array([0.000e+00, 1.000e-01, 2.000e-01, ..., 1.198e+02, 1.199e+02,\n",
              "       1.200e+02])"
            ]
          },
          "metadata": {},
          "execution_count": 3
        }
      ]
    },
    {
      "cell_type": "markdown",
      "source": [
        "**Define a discrete spatial domain: $x \\in [-5, 5]$ with step size 0.01\\**."
      ],
      "metadata": {
        "id": "6Cj00RhDGfZB"
      }
    },
    {
      "cell_type": "code",
      "source": [
        "X = Domain1D(0.01, min_val=-5.0, max_val=5.0)\n",
        "X[:]"
      ],
      "metadata": {
        "colab": {
          "base_uri": "https://localhost:8080/"
        },
        "id": "ZuosdZ_9GiCm",
        "outputId": "6f606438-0444-4b8c-cc91-2b4a01a39a1a"
      },
      "execution_count": 4,
      "outputs": [
        {
          "output_type": "execute_result",
          "data": {
            "text/plain": [
              "array([-5.  , -4.99, -4.98, ...,  4.98,  4.99,  5.  ])"
            ]
          },
          "metadata": {},
          "execution_count": 4
        }
      ]
    },
    {
      "cell_type": "markdown",
      "source": [
        "# Define a \"solution grid\" #\n",
        "\n",
        "The following class implements a wrapper around a 2-D Numpy array that can be used to hold $u_{j, i} = u(x_i, t_j)$.\n",
        "\n",
        "> The indices of $u_{j,i}$ are transposed relative to the \"whiteboard\" notes."
      ],
      "metadata": {
        "id": "36cemfAZGvvK"
      }
    },
    {
      "cell_type": "markdown",
      "source": [
        "When instantiated, a `Solution1D` object includes \"padding\" in space to hold \"ghost zones,\" which are copies of the endpoints that can help simplify how boundary conditions are handled.\n",
        "\n",
        "In particular, suppose the desired solution domain at discrete time-index $j$ _logically_ consists of the $n$ points $u_{j,0}, u_{j,1}, u_{j,2}, \\ldots, u_{j,n-1}$. The `Solution1D` object creates a _physical_ array of size $n+2$, which has extra cells to the left and right of the logical values, as shown below.\n",
        "\n",
        "$$\\begin{array}{r|c|l}\n",
        "  a_j & u_{j,0} \\: u_{j,1} \\: \\cdots \\: u_{j, n-1} & b_j\n",
        "\\end{array}$$\n",
        "\n",
        "The entries $a_j$ and $b_j$ are the **ghost values**. The function `Solution1D.update_ghosts(j)` will set $a_j \\leftarrow u_{j,n-1}$ and $b \\leftarrow u_{j,0}$, which correspond to **periodic** or **wraparound** boundary conditions."
      ],
      "metadata": {
        "id": "jPcSZ9_NGywS"
      }
    },
    {
      "cell_type": "code",
      "source": [
        "class Solution1D: # with periodic \"ghost boundaries\"\n",
        "    def __init__(self, T, X, u0=None):\n",
        "        from numpy import zeros\n",
        "        assert isinstance(T, Domain1D) and isinstance(X, Domain1D)\n",
        "        self.T = T\n",
        "        self.X = X\n",
        "        self.vals = zeros((len(T), len(X) + 2)) # ghost cells\n",
        "        \n",
        "        if u0 is not None and len(T) > 0:\n",
        "            self.vals[0, 1:-1] = u0(X) if callable(u0) else u0\n",
        "            self.update_ghosts(0)\n",
        "            \n",
        "    def __getitem__(self, s): # values by arbitrary Numpy-style slice\n",
        "        assert isinstance(s, tuple) and len(s) == 2\n",
        "        J, I = s[0], s[1]\n",
        "        return self.vals[J, I]\n",
        "    \n",
        "    def __setitem__(self, s, x):\n",
        "        assert isinstance(s, tuple) and len(s) == 2\n",
        "        J, I = s[0], s[1]\n",
        "        self.vals[J, I] = x\n",
        "        \n",
        "    def __len__(self):\n",
        "        return len(self.T)\n",
        "    \n",
        "    def update_ghosts(self, j): # periodic boundaries\n",
        "        self.vals[j+1, 0] = self.vals[j, -2]\n",
        "        self.vals[j+1, -1] = self.vals[j, 1]"
      ],
      "metadata": {
        "id": "CA4rRzAfGya6"
      },
      "execution_count": 5,
      "outputs": []
    },
    {
      "cell_type": "markdown",
      "source": [
        "**Helper function: visualizer.** The next function will plot the values of a `Solution1D` object `U` at the time points specified by `J`."
      ],
      "metadata": {
        "id": "GXoSSgzMT9j4"
      }
    },
    {
      "cell_type": "code",
      "source": [
        "def plot_grid(U, J=[0]\n",
        "              , figsize=(12, 6.75), markersize=4, linewidth=1\n",
        "              , title_str=None, axes=True\n",
        "             ):\n",
        "    assert isinstance(U, Solution1D)\n",
        "    \n",
        "    from matplotlib.pyplot import figure, gca, plot, legend, show\n",
        "    fig = figure(figsize=figsize)\n",
        "    ax = gca()\n",
        "\n",
        "    for c, j in enumerate(J):\n",
        "        ax.plot(U.X, U[j, 1:-1], 'o-', color=f'C{c}', label=f't={U.T[j]}'\n",
        "                , markersize=markersize, linewidth=linewidth)\n",
        "    ax.set_xlabel(r'$x$')\n",
        "    ax.set_ylabel(r'$\\approx u(x,t)$', rotation=0, horizontalalignment='right')\n",
        "    if title_str is not None:\n",
        "        ax.set_title(title_str, loc='left')\n",
        "    if axes:\n",
        "        ax.axhline(0, color='grey', linewidth=0.5, linestyle='dashed')\n",
        "        ax.axvline(0, color='grey', linewidth=0.5, linestyle='dashed')\n",
        "    legend()\n",
        "    show()"
      ],
      "metadata": {
        "id": "1mxjdIQ9T_nx"
      },
      "execution_count": 8,
      "outputs": []
    },
    {
      "cell_type": "markdown",
      "source": [
        "# Initial conditions #\n",
        "\n",
        "The following helper functions implement different initial conditions over a domain `X`."
      ],
      "metadata": {
        "id": "1fGa8_idUDZC"
      }
    },
    {
      "cell_type": "code",
      "source": [
        "def impulse(X, x0=0.0, w=0.5):\n",
        "    \"\"\"A rectangular impulse of height 1.0 centered at `x0` with width `2*w`.\"\"\"\n",
        "    assert isinstance(X, Domain1D)\n",
        "    from numpy import zeros\n",
        "    u0 = zeros(len(X))\n",
        "    I1 = (-5 <= X.vals) & (X.vals < -0.25)\n",
        "    I2 = (-0.25 <= X.vals) & (X.vals < 0)\n",
        "    I3 = (0 <= X.vals) & (X.vals <= 5)\n",
        "    u0[I1] = 80.0\n",
        "    u0[I2] = 160.0\n",
        "    u0[I3] = 0\n",
        "    return u0"
      ],
      "metadata": {
        "id": "XUeNN5jDUF7L"
      },
      "execution_count": 9,
      "outputs": []
    },
    {
      "cell_type": "code",
      "source": [
        "# Demo:\n",
        "U_impulse = Solution1D(T, X, u0=impulse)\n",
        "plot_grid(U_impulse, title_str=r'Unit impulse at $x=0$')"
      ],
      "metadata": {
        "colab": {
          "base_uri": "https://localhost:8080/",
          "height": 644
        },
        "id": "WSVL9P-0UIDi",
        "outputId": "2ee0e2d8-7260-416c-d416-4a46607a488a"
      },
      "execution_count": 10,
      "outputs": [
        {
          "output_type": "display_data",
          "data": {
            "text/plain": [
              "<Figure size 1200x675 with 1 Axes>"
            ],
            "image/png": "[encoded data removed]"
          },
          "metadata": {}
        }
      ]
    },
    {
      "cell_type": "markdown",
      "source": [
        "> An initial shock. Suppose the maximum density\n",
        "ρmax is 160 cars per km. Traffic\n",
        "enters from the left ($x=−5$ km)\n",
        "at 80 cars per km, half the maximum density. This density is\n",
        "fixed until $x=−0.25$ km, where a\n",
        "“shock” occurs, meaning traffic\n",
        "suddently hits the maximum\n",
        "density. This shock extends until $x=0$ km. To the right of that\n",
        "point, the density is zero."
      ],
      "metadata": {
        "id": "FjulbFwpcmul"
      }
    },
    {
      "cell_type": "markdown",
      "source": [
        "# Simulator #\n",
        "\n",
        "Generically, a numerical method takes a `Solution1D` grid as input with some initial condition at `U[0, :]`, and repeatedly runs an update step (`stepper`) to compute the grid at the next time point `U[j+1, :]` from the earlier one at `U[j, :]`."
      ],
      "metadata": {
        "id": "o8_LX3szUNtz"
      }
    },
    {
      "cell_type": "code",
      "source": [
        "def simulate(U, stepper): # modifies `U` in-place\n",
        "    for j in range(0, len(U)-1):\n",
        "        stepper(U, j)\n",
        "        U.update_ghosts(j)"
      ],
      "metadata": {
        "id": "1Z_ZXRNaUQkm"
      },
      "execution_count": 11,
      "outputs": []
    },
    {
      "cell_type": "code",
      "source": [
        "def flows(p, dt, dx):\n",
        "    v_max = 120 / (60 * 60)\n",
        "    rho_max = 160\n",
        "    return v_max * p * (1 - p / rho_max)"
      ],
      "metadata": {
        "id": "qxhmbBccURxb"
      },
      "execution_count": 12,
      "outputs": []
    },
    {
      "cell_type": "markdown",
      "source": [
        "# 1. PDE-Based Model\n",
        "\n",
        "\n"
      ],
      "metadata": {
        "id": "XlZW7dqEU22z"
      }
    },
    {
      "cell_type": "markdown",
      "source": [
        "• $ρ = ρ(x, t)$ be the density of cars at position $x$ and time $t$, having\n",
        "units of, say, number of vehicles per $km$;\n",
        "\n",
        "• $v = v(x, t)$ be the velocity of a car at position $x$ and time $t$, in units\n",
        "of $km/h$.\n",
        "\n",
        "• $f = f(x, t)$ be the flow of cars at position x and time t, in units of number of vehicles per hour.\n",
        "\n",
        "These are interrelated by $f = ρv$, which is consistent with the units.\n",
        "\n",
        "Suppose the initial conditions $ρ(x, 0) ≡ ρ_0(x)$, $v(x, 0) ≡ v_0(x)$ are given. Furthermore, assume that vehicles cannot travel faster than\n",
        "$v_{max}$ , and that maximum density of vehicles at any point on the road is $ρ_{max}$ .\n",
        "\n",
        "The general LWR model says the state of the system evolves in 5 The maximum density would be\n",
        "related to, say, the typical length of a\n",
        "vehicle, which determines the largest\n",
        "number of vehicles that can occupy a\n",
        "region of space.\n",
        "time and space according to the partial differential equation (PDE),\n",
        "\n",
        "\\begin{align}\n",
        "\\frac{∂ρ}{∂t}= −\\frac{∂f}{∂x}\n",
        "\\end{align}\n",
        "\n",
        "\n",
        "We make two additional simplifying assumptions. First, we assume that the flow $f$ is an explicit function of $ρ$ only, i.e., $f = f(ρ)$.\n",
        "When imposing this assumption on\n",
        "eq. (1), the resulting model is sometimes called the shallow-water equation or\n",
        "transport equation, and it is an instance\n",
        "of a nonlinear hyperbolic PDE.\n",
        "\n",
        "Second, we assume f has the form of a logistic function,\n",
        "\n",
        "\\begin{align}\n",
        "f(ρ) = v_{max} \\cdot ρ \\left( 1 - \\frac{ρ}{ρ_{max}} \\right)\n",
        "\\end{align}\n",
        "Substituting eq. (2) into eq. (1) yields\n",
        "\n",
        "\\begin{align}\n",
        "\\frac{∂ρ}{∂t} = − \\frac{∂f}{∂x}\n",
        "\\end{align}\n",
        "\n",
        "\\begin{align}\n",
        "= -\\left( \\frac{df}{dρ} \\right) \\frac{∂ρ}{∂x}\n",
        "\\end{align}\n",
        "\n",
        "\\begin{align}\n",
        "= -\\left( \\frac{df}{dρ} \\right) \\frac{∂ρ}{∂x}\n",
        "\\end{align}\n",
        "\n",
        "\\begin{align}\n",
        "= −v_{max} \\left( 1 − 2 \\frac{ρ}{ρ_{max}} \\right) \\frac{∂ρ}{∂x}\n",
        "\\end{align}"
      ],
      "metadata": {
        "id": "Fqq6WkK1VuvY"
      }
    },
    {
      "cell_type": "markdown",
      "source": [
        ">This model is the one we wish to simulate numerically. We will\n",
        "implement and compare two methods in sections 1.1 and 1.2."
      ],
      "metadata": {
        "id": "QirGvkZGbfl6"
      }
    },
    {
      "cell_type": "markdown",
      "source": [
        "##1.1) Upwind-Scheme\n"
      ],
      "metadata": {
        "id": "cRMNAlhVVFEY"
      }
    },
    {
      "cell_type": "code",
      "source": [
        "def step_upwind(U, j, c):\n",
        "    dt, dx = U.T.step, U.X.step\n",
        "    for i in range(0, len(U[j, :]) - 1):\n",
        "            U[j + 1, i] = U[j,i] - dt/dx \\\n",
        "                        * (flows(U[j, i+1], dt, dx) - flows(U[j, i], dt, dx))\n",
        "            # Prevent negative densities\n",
        "            if U[j+1, i] < 0: U[j+1,i] = 0"
      ],
      "metadata": {
        "id": "WLopEvPWdLBV"
      },
      "execution_count": 13,
      "outputs": []
    },
    {
      "cell_type": "markdown",
      "source": [
        "##1.2) Lax-Friedrichs scheme"
      ],
      "metadata": {
        "id": "sPyedkkWdUrl"
      }
    },
    {
      "cell_type": "code",
      "source": [
        "def step_lf(U, j, c):\n",
        "    dt, dx = U.T.step, U.X.step\n",
        "    for i in range(1, len(U[j, :])-1):\n",
        "        U[j + 1, i] = 0.5 * (U[j, i+1] + U[j, i-1])\\\n",
        "                     - dt/dx * 0.5 * (flows(U[j, i+1], dt, dx) - flows(U[j,i-1], dt, dx))"
      ],
      "metadata": {
        "id": "C1EKOWuPdar6"
      },
      "execution_count": 14,
      "outputs": []
    },
    {
      "cell_type": "markdown",
      "source": [
        "## Simulation"
      ],
      "metadata": {
        "id": "oJNFSvPodhyq"
      }
    },
    {
      "cell_type": "code",
      "source": [
        "def cfl(c, h=None, s=None, U=None):\n",
        "    if h is None and U is not None:\n",
        "        h = U.T.step\n",
        "    if s is None and U is not None:\n",
        "        s = U.X.step\n",
        "    assert h is not None and s is not None, \\\n",
        "           f\"*** Can't determine time and/or step size (`h`={h}, `s`={s}) ***\"\n",
        "    return c * h / s"
      ],
      "metadata": {
        "id": "LOUOvotgdtpH"
      },
      "execution_count": 15,
      "outputs": []
    },
    {
      "cell_type": "code",
      "source": [
        "def experiment(c, h, s\n",
        "               , u0=impulse\n",
        "               , stepper=step_lf\n",
        "               , x_max=5.0, num_steps=100, t_max=None\n",
        "              ):\n",
        "    if t_max is None:\n",
        "        assert num_steps is not None and num_steps >= 0\n",
        "        t_max = num_steps * s\n",
        "    T = Domain1D(h, min_val=0.0, max_val=t_max)\n",
        "    X = Domain1D(s, min_val=-x_max, max_val=x_max)\n",
        "    U = Solution1D(T, X, u0=u0)\n",
        "    simulate(U, lambda U, j: stepper(U, j, c))\n",
        "    plot_grid(U, J=[0, len(U)-1]\n",
        "              , title_str=f'CFL={cfl(c, U=U)}; u0={u0.__name__}')"
      ],
      "metadata": {
        "id": "6AR-qvx3eBJ2"
      },
      "execution_count": 21,
      "outputs": []
    },
    {
      "cell_type": "code",
      "source": [
        "{f.__name__: f for f in [impulse]}"
      ],
      "metadata": {
        "colab": {
          "base_uri": "https://localhost:8080/"
        },
        "id": "vLD5FlAZeAyf",
        "outputId": "659ce9f4-a3d4-468a-9004-d6c71f74b3c2"
      },
      "execution_count": 17,
      "outputs": [
        {
          "output_type": "execute_result",
          "data": {
            "text/plain": [
              "{'impulse': <function __main__.impulse(X, x0=0.0, w=0.5)>}"
            ]
          },
          "metadata": {},
          "execution_count": 17
        }
      ]
    },
    {
      "cell_type": "code",
      "source": [
        "from ipywidgets import interact, fixed, FloatSlider, Dropdown\n",
        "\n",
        "interact(experiment\n",
        "         , c=FloatSlider(min=-1, max=1, step=0.2, value=1.0)\n",
        "         , h=[0.01, 0.02, 0.05, 0.1, 0.2, 0.5]\n",
        "         , s=[0.01, 0.02, 0.05, 0.1, 0.2, 0.5]\n",
        "         , u0={'impulse': impulse}\n",
        "         , stepper={'Lax-Friedrichs': step_lf, 'upwind': step_upwind}\n",
        "         , x_max=FloatSlider(min=1.0, max=5.0, step=0.1, value=5.0)\n",
        "         , num_steps=Dropdown(options=[2, 4, 8, 16, 32, 64, 128, 256, 512, 1_024], value=256)\n",
        "         , t_max=fixed(None)\n",
        "        )\n",
        "pass"
      ],
      "metadata": {
        "colab": {
          "base_uri": "https://localhost:8080/",
          "height": 737,
          "referenced_widgets": [
            "3f0f62c997364f74aeff35f266d19a5a",
            "e41618942f27425f94273a448bf921d6",
            "ccdc81bae49f4caf928e91929abf721a",
            "6fcbde0225d24e78a91db9a273af191d",
            "e48024bbfa3a44d48271eebc21c29475",
            "4c477094cac6483a810d16a6757b709f",
            "0c8dd5ec19d74c2bbce29ed28c0b6e0e",
            "784854957d7049b6ae93b3eb38b2cbe5",
            "334864e2c5354a01811aba5c3f829329",
            "78afc69c1a3d499297dcb782d604badb",
            "215d6bf924824e94a75450fb6a51db0b",
            "b8a59eaff1b84dc39c1c43515feadadf",
            "48e6803e436b4b4589d7fa8a3249dfcc",
            "f4a2c48fd3094bc9b093c6f28cc0dd24",
            "fdbdeda47fa44be6b7dd308ed747f775",
            "d0b8cc8509f0450a9bf5ed3b701c7c8a",
            "a40a3518d8064a98ad8f74ea6095cfb6",
            "e30ec643ba61411e8d2ef38e807db550",
            "0f901bbf53834e6c9decdca3960b2fa3",
            "0c723fb1834244f699e4bb301b18eeab",
            "d42c4da2702d4b9693f1c7afdee2518d",
            "0c6442ff1dc1407d83eeec998bdf4e8e",
            "e9a3f0db693140c2a8a016ceff982b72",
            "3ceda0c2bc2546899738f75226b1ca35",
            "d3ca8f84b4f54bb58b13af3cafd22b94"
          ]
        },
        "id": "0awd23qAeFkz",
        "outputId": "45a122d5-8420-455e-c058-f41eeea852d5"
      },
      "execution_count": 22,
      "outputs": [
        {
          "output_type": "display_data",
          "data": {
            "text/plain": [
              "interactive(children=(FloatSlider(value=1.0, description='c', max=1.0, min=-1.0, step=0.2), Dropdown(descripti…"
            ],
            "application/vnd.jupyter.widget-view+json": {
              "version_major": 2,
              "version_minor": 0,
              "model_id": "3f0f62c997364f74aeff35f266d19a5a"
            }
          },
          "metadata": {}
        }
      ]
    }
  ]
}